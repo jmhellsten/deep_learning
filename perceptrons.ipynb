{
 "cells": [
  {
   "cell_type": "markdown",
   "id": "4cdc091c",
   "metadata": {},
   "source": [
    "# Deep Learning: Perceptrons"
   ]
  },
  {
   "cell_type": "code",
   "execution_count": 1,
   "id": "0fcf5d48",
   "metadata": {
    "ExecuteTime": {
     "end_time": "2024-12-12T14:33:31.376784Z",
     "start_time": "2024-12-12T14:33:31.363819Z"
    }
   },
   "outputs": [],
   "source": [
    "student_name = 'Juha-Matti Hellsten'"
   ]
  },
  {
   "cell_type": "markdown",
   "id": "a1b3a93c",
   "metadata": {},
   "source": [
    "## Topic: Happiness, Classifier: Perceptron\n",
    "\n",
    "Check out the **Somerville Happiness Survey Data Set** at\n",
    "[https://archive.ics.uci.edu/ml/datasets/Somerville+Happiness+Survey](https://archive.ics.uci.edu/ml/datasets/Somerville+Happiness+Survey).\n",
    "\n",
    "Preprocess the data."
   ]
  },
  {
   "cell_type": "code",
   "execution_count": 2,
   "id": "e9517d25",
   "metadata": {
    "ExecuteTime": {
     "end_time": "2024-12-12T14:33:36.077207Z",
     "start_time": "2024-12-12T14:33:31.399723Z"
    }
   },
   "outputs": [
    {
     "name": "stdout",
     "output_type": "stream",
     "text": [
      "Columns: Index(['happy', 'info-availability', 'cost-of-housing',\n",
      "       'quality-public-schools', 'trust-in-local-police',\n",
      "       'maintenance-of-streets', 'social-event-availability'],\n",
      "      dtype='object')\n",
      "First row by position: happy                        0\n",
      "info-availability            3\n",
      "cost-of-housing              3\n",
      "quality-public-schools       3\n",
      "trust-in-local-police        4\n",
      "maintenance-of-streets       2\n",
      "social-event-availability    4\n",
      "Name: 0, dtype: int64\n"
     ]
    }
   ],
   "source": [
    "import pandas as pd\n",
    "\n",
    "df = pd.read_csv('data/SomervilleHappinessSurvey2015.csv', encoding='utf-16')\n",
    "\n",
    "feature_columns = [\n",
    "     'info-availability',\n",
    "     'cost-of-housing',\n",
    "     'quality-public-schools',\n",
    "     'trust-in-local-police',\n",
    "     'maintenance-of-streets',\n",
    "     'social-event-availability'\n",
    "]\n",
    "\n",
    "columns = ['happy'] + feature_columns\n",
    "\n",
    "df.columns = columns\n",
    "\n",
    "print(f'Columns: {df.columns}')\n",
    "print(f'First row by position: {df.iloc[0]}')"
   ]
  },
  {
   "cell_type": "markdown",
   "id": "9a074e86",
   "metadata": {},
   "source": [
    "### Split the dataset into training (67 %) and testing (33 %) (`X_train`, `y_train`, `X_test`, `y_test`) dataset.\n",
    "### Use random seed `9001`."
   ]
  },
  {
   "cell_type": "code",
   "execution_count": 3,
   "id": "780d7d05",
   "metadata": {
    "ExecuteTime": {
     "end_time": "2024-12-12T14:33:36.097154400Z",
     "start_time": "2024-01-18T16:05:40.390252800Z"
    }
   },
   "outputs": [],
   "source": [
    "from sklearn.model_selection import train_test_split\n",
    "\n",
    "X = df.drop(columns='happy')\n",
    "y = df['happy']        \n",
    "\n",
    "X_train, X_test, y_train, y_test = train_test_split(X, y, test_size=0.33, random_state=9001)"
   ]
  },
  {
   "cell_type": "code",
   "execution_count": 4,
   "id": "2a936f70",
   "metadata": {
    "ExecuteTime": {
     "end_time": "2024-12-12T14:33:36.102140100Z",
     "start_time": "2024-01-18T16:05:40.405283400Z"
    }
   },
   "outputs": [
    {
     "name": "stdout",
     "output_type": "stream",
     "text": [
      "Test length: 48\n",
      "Train length: 95\n"
     ]
    }
   ],
   "source": [
    "# Answers to the assignment.\n",
    "# Note! Do not edit this cell, just run it after you complete the assignment.\n",
    "print(f'Test length: {len(X_test)}')\n",
    "print(f'Train length: {len(X_train)}')"
   ]
  },
  {
   "cell_type": "markdown",
   "id": "7d8faa18",
   "metadata": {},
   "source": [
    "## Implement a linear perceptron classifier\n",
    "\n",
    "1. Use the linear perceptron from `scikit-learn` library to create a classifier. Save the classifier in the `pc` variable.\n",
    "\n",
    "2. Predict the probability of your test data being in the class using your classifier and save the confidence scores in the variable `y_score`.\n",
    "   Save the result of the predicted classes in the variable `y_pred`. Hint: you can use `decision_function()` to calculate confidence scores.\n",
    "\n",
    "3. Save the classification report `cr` and the confusion matrix `cm` using the `metrics` module.\n",
    "\n",
    "4. Calculate the ROC values for the regression using the `metrics` module of the `scikit-learn` library.\n",
    "   Calculate the area under the ROC curve variable `auc`. Plot the threshold optimization curve using the `matplotlib` library.\n",
    "\n",
    "5. Write in the `reflection` variable thoughts of ROC curve and accuracy."
   ]
  },
  {
   "cell_type": "code",
   "execution_count": 5,
   "id": "a8343d0e",
   "metadata": {
    "ExecuteTime": {
     "end_time": "2024-12-12T14:33:36.104136900Z",
     "start_time": "2024-01-18T16:05:47.228994800Z"
    },
    "lines_to_next_cell": 2
   },
   "outputs": [
    {
     "data": {
      "text/html": [
       "<style>#sk-container-id-1 {\n",
       "  /* Definition of color scheme common for light and dark mode */\n",
       "  --sklearn-color-text: black;\n",
       "  --sklearn-color-line: gray;\n",
       "  /* Definition of color scheme for unfitted estimators */\n",
       "  --sklearn-color-unfitted-level-0: #fff5e6;\n",
       "  --sklearn-color-unfitted-level-1: #f6e4d2;\n",
       "  --sklearn-color-unfitted-level-2: #ffe0b3;\n",
       "  --sklearn-color-unfitted-level-3: chocolate;\n",
       "  /* Definition of color scheme for fitted estimators */\n",
       "  --sklearn-color-fitted-level-0: #f0f8ff;\n",
       "  --sklearn-color-fitted-level-1: #d4ebff;\n",
       "  --sklearn-color-fitted-level-2: #b3dbfd;\n",
       "  --sklearn-color-fitted-level-3: cornflowerblue;\n",
       "\n",
       "  /* Specific color for light theme */\n",
       "  --sklearn-color-text-on-default-background: var(--sg-text-color, var(--theme-code-foreground, var(--jp-content-font-color1, black)));\n",
       "  --sklearn-color-background: var(--sg-background-color, var(--theme-background, var(--jp-layout-color0, white)));\n",
       "  --sklearn-color-border-box: var(--sg-text-color, var(--theme-code-foreground, var(--jp-content-font-color1, black)));\n",
       "  --sklearn-color-icon: #696969;\n",
       "\n",
       "  @media (prefers-color-scheme: dark) {\n",
       "    /* Redefinition of color scheme for dark theme */\n",
       "    --sklearn-color-text-on-default-background: var(--sg-text-color, var(--theme-code-foreground, var(--jp-content-font-color1, white)));\n",
       "    --sklearn-color-background: var(--sg-background-color, var(--theme-background, var(--jp-layout-color0, #111)));\n",
       "    --sklearn-color-border-box: var(--sg-text-color, var(--theme-code-foreground, var(--jp-content-font-color1, white)));\n",
       "    --sklearn-color-icon: #878787;\n",
       "  }\n",
       "}\n",
       "\n",
       "#sk-container-id-1 {\n",
       "  color: var(--sklearn-color-text);\n",
       "}\n",
       "\n",
       "#sk-container-id-1 pre {\n",
       "  padding: 0;\n",
       "}\n",
       "\n",
       "#sk-container-id-1 input.sk-hidden--visually {\n",
       "  border: 0;\n",
       "  clip: rect(1px 1px 1px 1px);\n",
       "  clip: rect(1px, 1px, 1px, 1px);\n",
       "  height: 1px;\n",
       "  margin: -1px;\n",
       "  overflow: hidden;\n",
       "  padding: 0;\n",
       "  position: absolute;\n",
       "  width: 1px;\n",
       "}\n",
       "\n",
       "#sk-container-id-1 div.sk-dashed-wrapped {\n",
       "  border: 1px dashed var(--sklearn-color-line);\n",
       "  margin: 0 0.4em 0.5em 0.4em;\n",
       "  box-sizing: border-box;\n",
       "  padding-bottom: 0.4em;\n",
       "  background-color: var(--sklearn-color-background);\n",
       "}\n",
       "\n",
       "#sk-container-id-1 div.sk-container {\n",
       "  /* jupyter's `normalize.less` sets `[hidden] { display: none; }`\n",
       "     but bootstrap.min.css set `[hidden] { display: none !important; }`\n",
       "     so we also need the `!important` here to be able to override the\n",
       "     default hidden behavior on the sphinx rendered scikit-learn.org.\n",
       "     See: https://github.com/scikit-learn/scikit-learn/issues/21755 */\n",
       "  display: inline-block !important;\n",
       "  position: relative;\n",
       "}\n",
       "\n",
       "#sk-container-id-1 div.sk-text-repr-fallback {\n",
       "  display: none;\n",
       "}\n",
       "\n",
       "div.sk-parallel-item,\n",
       "div.sk-serial,\n",
       "div.sk-item {\n",
       "  /* draw centered vertical line to link estimators */\n",
       "  background-image: linear-gradient(var(--sklearn-color-text-on-default-background), var(--sklearn-color-text-on-default-background));\n",
       "  background-size: 2px 100%;\n",
       "  background-repeat: no-repeat;\n",
       "  background-position: center center;\n",
       "}\n",
       "\n",
       "/* Parallel-specific style estimator block */\n",
       "\n",
       "#sk-container-id-1 div.sk-parallel-item::after {\n",
       "  content: \"\";\n",
       "  width: 100%;\n",
       "  border-bottom: 2px solid var(--sklearn-color-text-on-default-background);\n",
       "  flex-grow: 1;\n",
       "}\n",
       "\n",
       "#sk-container-id-1 div.sk-parallel {\n",
       "  display: flex;\n",
       "  align-items: stretch;\n",
       "  justify-content: center;\n",
       "  background-color: var(--sklearn-color-background);\n",
       "  position: relative;\n",
       "}\n",
       "\n",
       "#sk-container-id-1 div.sk-parallel-item {\n",
       "  display: flex;\n",
       "  flex-direction: column;\n",
       "}\n",
       "\n",
       "#sk-container-id-1 div.sk-parallel-item:first-child::after {\n",
       "  align-self: flex-end;\n",
       "  width: 50%;\n",
       "}\n",
       "\n",
       "#sk-container-id-1 div.sk-parallel-item:last-child::after {\n",
       "  align-self: flex-start;\n",
       "  width: 50%;\n",
       "}\n",
       "\n",
       "#sk-container-id-1 div.sk-parallel-item:only-child::after {\n",
       "  width: 0;\n",
       "}\n",
       "\n",
       "/* Serial-specific style estimator block */\n",
       "\n",
       "#sk-container-id-1 div.sk-serial {\n",
       "  display: flex;\n",
       "  flex-direction: column;\n",
       "  align-items: center;\n",
       "  background-color: var(--sklearn-color-background);\n",
       "  padding-right: 1em;\n",
       "  padding-left: 1em;\n",
       "}\n",
       "\n",
       "\n",
       "/* Toggleable style: style used for estimator/Pipeline/ColumnTransformer box that is\n",
       "clickable and can be expanded/collapsed.\n",
       "- Pipeline and ColumnTransformer use this feature and define the default style\n",
       "- Estimators will overwrite some part of the style using the `sk-estimator` class\n",
       "*/\n",
       "\n",
       "/* Pipeline and ColumnTransformer style (default) */\n",
       "\n",
       "#sk-container-id-1 div.sk-toggleable {\n",
       "  /* Default theme specific background. It is overwritten whether we have a\n",
       "  specific estimator or a Pipeline/ColumnTransformer */\n",
       "  background-color: var(--sklearn-color-background);\n",
       "}\n",
       "\n",
       "/* Toggleable label */\n",
       "#sk-container-id-1 label.sk-toggleable__label {\n",
       "  cursor: pointer;\n",
       "  display: block;\n",
       "  width: 100%;\n",
       "  margin-bottom: 0;\n",
       "  padding: 0.5em;\n",
       "  box-sizing: border-box;\n",
       "  text-align: center;\n",
       "}\n",
       "\n",
       "#sk-container-id-1 label.sk-toggleable__label-arrow:before {\n",
       "  /* Arrow on the left of the label */\n",
       "  content: \"▸\";\n",
       "  float: left;\n",
       "  margin-right: 0.25em;\n",
       "  color: var(--sklearn-color-icon);\n",
       "}\n",
       "\n",
       "#sk-container-id-1 label.sk-toggleable__label-arrow:hover:before {\n",
       "  color: var(--sklearn-color-text);\n",
       "}\n",
       "\n",
       "/* Toggleable content - dropdown */\n",
       "\n",
       "#sk-container-id-1 div.sk-toggleable__content {\n",
       "  max-height: 0;\n",
       "  max-width: 0;\n",
       "  overflow: hidden;\n",
       "  text-align: left;\n",
       "  /* unfitted */\n",
       "  background-color: var(--sklearn-color-unfitted-level-0);\n",
       "}\n",
       "\n",
       "#sk-container-id-1 div.sk-toggleable__content.fitted {\n",
       "  /* fitted */\n",
       "  background-color: var(--sklearn-color-fitted-level-0);\n",
       "}\n",
       "\n",
       "#sk-container-id-1 div.sk-toggleable__content pre {\n",
       "  margin: 0.2em;\n",
       "  border-radius: 0.25em;\n",
       "  color: var(--sklearn-color-text);\n",
       "  /* unfitted */\n",
       "  background-color: var(--sklearn-color-unfitted-level-0);\n",
       "}\n",
       "\n",
       "#sk-container-id-1 div.sk-toggleable__content.fitted pre {\n",
       "  /* unfitted */\n",
       "  background-color: var(--sklearn-color-fitted-level-0);\n",
       "}\n",
       "\n",
       "#sk-container-id-1 input.sk-toggleable__control:checked~div.sk-toggleable__content {\n",
       "  /* Expand drop-down */\n",
       "  max-height: 200px;\n",
       "  max-width: 100%;\n",
       "  overflow: auto;\n",
       "}\n",
       "\n",
       "#sk-container-id-1 input.sk-toggleable__control:checked~label.sk-toggleable__label-arrow:before {\n",
       "  content: \"▾\";\n",
       "}\n",
       "\n",
       "/* Pipeline/ColumnTransformer-specific style */\n",
       "\n",
       "#sk-container-id-1 div.sk-label input.sk-toggleable__control:checked~label.sk-toggleable__label {\n",
       "  color: var(--sklearn-color-text);\n",
       "  background-color: var(--sklearn-color-unfitted-level-2);\n",
       "}\n",
       "\n",
       "#sk-container-id-1 div.sk-label.fitted input.sk-toggleable__control:checked~label.sk-toggleable__label {\n",
       "  background-color: var(--sklearn-color-fitted-level-2);\n",
       "}\n",
       "\n",
       "/* Estimator-specific style */\n",
       "\n",
       "/* Colorize estimator box */\n",
       "#sk-container-id-1 div.sk-estimator input.sk-toggleable__control:checked~label.sk-toggleable__label {\n",
       "  /* unfitted */\n",
       "  background-color: var(--sklearn-color-unfitted-level-2);\n",
       "}\n",
       "\n",
       "#sk-container-id-1 div.sk-estimator.fitted input.sk-toggleable__control:checked~label.sk-toggleable__label {\n",
       "  /* fitted */\n",
       "  background-color: var(--sklearn-color-fitted-level-2);\n",
       "}\n",
       "\n",
       "#sk-container-id-1 div.sk-label label.sk-toggleable__label,\n",
       "#sk-container-id-1 div.sk-label label {\n",
       "  /* The background is the default theme color */\n",
       "  color: var(--sklearn-color-text-on-default-background);\n",
       "}\n",
       "\n",
       "/* On hover, darken the color of the background */\n",
       "#sk-container-id-1 div.sk-label:hover label.sk-toggleable__label {\n",
       "  color: var(--sklearn-color-text);\n",
       "  background-color: var(--sklearn-color-unfitted-level-2);\n",
       "}\n",
       "\n",
       "/* Label box, darken color on hover, fitted */\n",
       "#sk-container-id-1 div.sk-label.fitted:hover label.sk-toggleable__label.fitted {\n",
       "  color: var(--sklearn-color-text);\n",
       "  background-color: var(--sklearn-color-fitted-level-2);\n",
       "}\n",
       "\n",
       "/* Estimator label */\n",
       "\n",
       "#sk-container-id-1 div.sk-label label {\n",
       "  font-family: monospace;\n",
       "  font-weight: bold;\n",
       "  display: inline-block;\n",
       "  line-height: 1.2em;\n",
       "}\n",
       "\n",
       "#sk-container-id-1 div.sk-label-container {\n",
       "  text-align: center;\n",
       "}\n",
       "\n",
       "/* Estimator-specific */\n",
       "#sk-container-id-1 div.sk-estimator {\n",
       "  font-family: monospace;\n",
       "  border: 1px dotted var(--sklearn-color-border-box);\n",
       "  border-radius: 0.25em;\n",
       "  box-sizing: border-box;\n",
       "  margin-bottom: 0.5em;\n",
       "  /* unfitted */\n",
       "  background-color: var(--sklearn-color-unfitted-level-0);\n",
       "}\n",
       "\n",
       "#sk-container-id-1 div.sk-estimator.fitted {\n",
       "  /* fitted */\n",
       "  background-color: var(--sklearn-color-fitted-level-0);\n",
       "}\n",
       "\n",
       "/* on hover */\n",
       "#sk-container-id-1 div.sk-estimator:hover {\n",
       "  /* unfitted */\n",
       "  background-color: var(--sklearn-color-unfitted-level-2);\n",
       "}\n",
       "\n",
       "#sk-container-id-1 div.sk-estimator.fitted:hover {\n",
       "  /* fitted */\n",
       "  background-color: var(--sklearn-color-fitted-level-2);\n",
       "}\n",
       "\n",
       "/* Specification for estimator info (e.g. \"i\" and \"?\") */\n",
       "\n",
       "/* Common style for \"i\" and \"?\" */\n",
       "\n",
       ".sk-estimator-doc-link,\n",
       "a:link.sk-estimator-doc-link,\n",
       "a:visited.sk-estimator-doc-link {\n",
       "  float: right;\n",
       "  font-size: smaller;\n",
       "  line-height: 1em;\n",
       "  font-family: monospace;\n",
       "  background-color: var(--sklearn-color-background);\n",
       "  border-radius: 1em;\n",
       "  height: 1em;\n",
       "  width: 1em;\n",
       "  text-decoration: none !important;\n",
       "  margin-left: 1ex;\n",
       "  /* unfitted */\n",
       "  border: var(--sklearn-color-unfitted-level-1) 1pt solid;\n",
       "  color: var(--sklearn-color-unfitted-level-1);\n",
       "}\n",
       "\n",
       ".sk-estimator-doc-link.fitted,\n",
       "a:link.sk-estimator-doc-link.fitted,\n",
       "a:visited.sk-estimator-doc-link.fitted {\n",
       "  /* fitted */\n",
       "  border: var(--sklearn-color-fitted-level-1) 1pt solid;\n",
       "  color: var(--sklearn-color-fitted-level-1);\n",
       "}\n",
       "\n",
       "/* On hover */\n",
       "div.sk-estimator:hover .sk-estimator-doc-link:hover,\n",
       ".sk-estimator-doc-link:hover,\n",
       "div.sk-label-container:hover .sk-estimator-doc-link:hover,\n",
       ".sk-estimator-doc-link:hover {\n",
       "  /* unfitted */\n",
       "  background-color: var(--sklearn-color-unfitted-level-3);\n",
       "  color: var(--sklearn-color-background);\n",
       "  text-decoration: none;\n",
       "}\n",
       "\n",
       "div.sk-estimator.fitted:hover .sk-estimator-doc-link.fitted:hover,\n",
       ".sk-estimator-doc-link.fitted:hover,\n",
       "div.sk-label-container:hover .sk-estimator-doc-link.fitted:hover,\n",
       ".sk-estimator-doc-link.fitted:hover {\n",
       "  /* fitted */\n",
       "  background-color: var(--sklearn-color-fitted-level-3);\n",
       "  color: var(--sklearn-color-background);\n",
       "  text-decoration: none;\n",
       "}\n",
       "\n",
       "/* Span, style for the box shown on hovering the info icon */\n",
       ".sk-estimator-doc-link span {\n",
       "  display: none;\n",
       "  z-index: 9999;\n",
       "  position: relative;\n",
       "  font-weight: normal;\n",
       "  right: .2ex;\n",
       "  padding: .5ex;\n",
       "  margin: .5ex;\n",
       "  width: min-content;\n",
       "  min-width: 20ex;\n",
       "  max-width: 50ex;\n",
       "  color: var(--sklearn-color-text);\n",
       "  box-shadow: 2pt 2pt 4pt #999;\n",
       "  /* unfitted */\n",
       "  background: var(--sklearn-color-unfitted-level-0);\n",
       "  border: .5pt solid var(--sklearn-color-unfitted-level-3);\n",
       "}\n",
       "\n",
       ".sk-estimator-doc-link.fitted span {\n",
       "  /* fitted */\n",
       "  background: var(--sklearn-color-fitted-level-0);\n",
       "  border: var(--sklearn-color-fitted-level-3);\n",
       "}\n",
       "\n",
       ".sk-estimator-doc-link:hover span {\n",
       "  display: block;\n",
       "}\n",
       "\n",
       "/* \"?\"-specific style due to the `<a>` HTML tag */\n",
       "\n",
       "#sk-container-id-1 a.estimator_doc_link {\n",
       "  float: right;\n",
       "  font-size: 1rem;\n",
       "  line-height: 1em;\n",
       "  font-family: monospace;\n",
       "  background-color: var(--sklearn-color-background);\n",
       "  border-radius: 1rem;\n",
       "  height: 1rem;\n",
       "  width: 1rem;\n",
       "  text-decoration: none;\n",
       "  /* unfitted */\n",
       "  color: var(--sklearn-color-unfitted-level-1);\n",
       "  border: var(--sklearn-color-unfitted-level-1) 1pt solid;\n",
       "}\n",
       "\n",
       "#sk-container-id-1 a.estimator_doc_link.fitted {\n",
       "  /* fitted */\n",
       "  border: var(--sklearn-color-fitted-level-1) 1pt solid;\n",
       "  color: var(--sklearn-color-fitted-level-1);\n",
       "}\n",
       "\n",
       "/* On hover */\n",
       "#sk-container-id-1 a.estimator_doc_link:hover {\n",
       "  /* unfitted */\n",
       "  background-color: var(--sklearn-color-unfitted-level-3);\n",
       "  color: var(--sklearn-color-background);\n",
       "  text-decoration: none;\n",
       "}\n",
       "\n",
       "#sk-container-id-1 a.estimator_doc_link.fitted:hover {\n",
       "  /* fitted */\n",
       "  background-color: var(--sklearn-color-fitted-level-3);\n",
       "}\n",
       "</style><div id=\"sk-container-id-1\" class=\"sk-top-container\"><div class=\"sk-text-repr-fallback\"><pre>Perceptron(random_state=9001)</pre><b>In a Jupyter environment, please rerun this cell to show the HTML representation or trust the notebook. <br />On GitHub, the HTML representation is unable to render, please try loading this page with nbviewer.org.</b></div><div class=\"sk-container\" hidden><div class=\"sk-item\"><div class=\"sk-estimator fitted sk-toggleable\"><input class=\"sk-toggleable__control sk-hidden--visually\" id=\"sk-estimator-id-1\" type=\"checkbox\" checked><label for=\"sk-estimator-id-1\" class=\"sk-toggleable__label fitted sk-toggleable__label-arrow fitted\">&nbsp;&nbsp;Perceptron<a class=\"sk-estimator-doc-link fitted\" rel=\"noreferrer\" target=\"_blank\" href=\"https://scikit-learn.org/1.5/modules/generated/sklearn.linear_model.Perceptron.html\">?<span>Documentation for Perceptron</span></a><span class=\"sk-estimator-doc-link fitted\">i<span>Fitted</span></span></label><div class=\"sk-toggleable__content fitted\"><pre>Perceptron(random_state=9001)</pre></div> </div></div></div></div>"
      ],
      "text/plain": [
       "Perceptron(random_state=9001)"
      ]
     },
     "execution_count": 5,
     "metadata": {},
     "output_type": "execute_result"
    }
   ],
   "source": [
    "from sklearn.preprocessing import StandardScaler\n",
    "from sklearn.linear_model import Perceptron\n",
    "from sklearn import metrics\n",
    "import matplotlib.pyplot as plt\n",
    "import numpy as np\n",
    "\n",
    "scaler = StandardScaler()\n",
    "X_train_scaled = pd.DataFrame(scaler.fit_transform(X_train), columns=X_train.columns)\n",
    "X_test_scaled = pd.DataFrame(scaler.transform(X_test), columns=X_test.columns)\n",
    "\n",
    "pc = Perceptron(random_state=9001)\n",
    "pc.fit(X_train_scaled, y_train)"
   ]
  },
  {
   "cell_type": "code",
   "execution_count": 6,
   "id": "cf7af094",
   "metadata": {
    "ExecuteTime": {
     "end_time": "2024-12-12T14:33:36.107126800Z",
     "start_time": "2024-01-18T16:05:47.234978800Z"
    }
   },
   "outputs": [
    {
     "name": "stdout",
     "output_type": "stream",
     "text": [
      "Perceptron average test accuracy: 0.5\n"
     ]
    }
   ],
   "source": [
    "# Answers to the assignment.\n",
    "# Note! Do not edit this cell, just run it after you complete the assignment.\n",
    "print(f'Perceptron average test accuracy: {pc.score(X_test, y_test)}')"
   ]
  },
  {
   "cell_type": "code",
   "execution_count": 7,
   "id": "13eed681",
   "metadata": {
    "ExecuteTime": {
     "end_time": "2024-12-12T14:33:36.111117500Z",
     "start_time": "2024-01-18T16:05:47.240963700Z"
    }
   },
   "outputs": [],
   "source": [
    "from sklearn import metrics\n",
    "\n",
    "y_pred = pc.predict(X_test_scaled)\n",
    "y_score = pc.decision_function(X_test_scaled)\n",
    "\n",
    "cr = metrics.classification_report(y_test, y_pred)\n",
    "cm = metrics.confusion_matrix(y_test, y_pred)\n",
    "\n",
    "fpr, tpr, thresholds = metrics.roc_curve(y_test, y_score)\n",
    "auc = metrics.roc_auc_score(y_test, y_score)\n",
    "\n",
    "# TODO: Reflection - thoughts of ROC curve and accuracy.\n",
    "\n",
    "reflection = \"\"\"The perceptron classifier's accuracy is 0.5, which means that it \n",
    "does not perform better than random guessing. This suggests that either the \n",
    "data is too complex for a simple linear perceptron to classify effectively. \n",
    "AUC is 0.60 whis is decent, but not great.\"\"\""
   ]
  },
  {
   "cell_type": "code",
   "execution_count": 8,
   "id": "55e55fcb",
   "metadata": {
    "ExecuteTime": {
     "end_time": "2024-12-12T14:33:36.113112Z",
     "start_time": "2024-01-18T16:05:47.245949200Z"
    },
    "lines_to_next_cell": 2
   },
   "outputs": [
    {
     "name": "stdout",
     "output_type": "stream",
     "text": [
      "Classification report:\n",
      "               precision    recall  f1-score   support\n",
      "\n",
      "           0       0.55      0.25      0.34        24\n",
      "           1       0.51      0.79      0.62        24\n",
      "\n",
      "    accuracy                           0.52        48\n",
      "   macro avg       0.53      0.52      0.48        48\n",
      "weighted avg       0.53      0.52      0.48        48\n",
      "\n",
      "Confusion matrix:\n",
      " [[ 6 18]\n",
      " [ 5 19]]\n",
      "auc: 0.6024305555555556\n",
      "Reflection: The perceptron classifier's accuracy is 0.5, which means that it \n",
      "does not perform better than random guessing. This suggests that either the \n",
      "data is too complex for a simple linear perceptron to classify effectively. \n",
      "AUC is 0.60 whis is decent, but not great.\n"
     ]
    },
    {
     "data": {
      "image/png": "[encoded data removed]",
      "text/plain": [
       "<Figure size 800x600 with 1 Axes>"
      ]
     },
     "metadata": {},
     "output_type": "display_data"
    }
   ],
   "source": [
    "# Answers to the assignment.\n",
    "# Note! Do not edit this cell, just run it after you complete the assignment.\n",
    "\n",
    "print(f'Classification report:\\n {cr}')\n",
    "print(f'Confusion matrix:\\n {cm}')\n",
    "print(f'auc: {auc}')\n",
    "print(f'Reflection: {reflection}')\n",
    "\n",
    "# TODO: Visualize results also\n",
    "plt.figure(figsize=(8, 6))\n",
    "plt.plot(fpr, tpr, label=f'ROC curve (AUC = {auc:.2f})')\n",
    "plt.plot([0, 1], [0, 1], 'k--', label='Random')\n",
    "plt.xlim([0.0, 1.0])\n",
    "plt.ylim([0.0, 1.05])\n",
    "plt.xlabel('False Positive Rate')\n",
    "plt.ylabel('True Positive Rate')\n",
    "plt.title('ROC Curve - Happiness Prediction')\n",
    "plt.legend(loc=\"lower right\")\n",
    "plt.grid(True)\n",
    "plt.show()"
   ]
  },
  {
   "cell_type": "markdown",
   "id": "edb5d0bc",
   "metadata": {},
   "source": [
    "## Topic: Newsgroup messages with Perceptron\n",
    "\n",
    "Check out the following dataset:\n",
    "\n",
    "* `sklearn.datasets.fetch_20newsgroups`\n",
    "\n",
    "This data contains messages sent to 20 newsgroups. Data does not need to be pre-processed at all.\n",
    "The following categories are used in the classification:\n",
    "* `categories: ['rec.sport.hockey', 'rec.sport.baseball', 'rec.autos']`\n",
    "* `categories_2: ['comp.graphics', 'comp.os.ms-windows.misc', 'comp.windows.x']`\n",
    "\n",
    "The dataset is already divided into test and train sets (`fetch_20newsgroups(subset)`).\n",
    "Use the following variables with training and test sets (`X_train`, `y_train`, `X_test`, `y_test`).\n",
    "\n",
    "Transform both training and test data with the methods of the `TfidfVectorizer` class.\n",
    "* Scaling is not needed here after this\n",
    "* You should print samples of the values to see if values are on the right scale: **0-1**.\n"
   ]
  },
  {
   "cell_type": "code",
   "execution_count": 9,
   "id": "8a631406",
   "metadata": {
    "ExecuteTime": {
     "end_time": "2024-12-12T14:33:36.115106600Z",
     "start_time": "2024-01-18T16:05:47.251933800Z"
    }
   },
   "outputs": [],
   "source": [
    "from sklearn.datasets import fetch_20newsgroups\n",
    "from sklearn.metrics import classification_report, confusion_matrix, ConfusionMatrixDisplay\n",
    "from sklearn.feature_extraction.text import TfidfVectorizer\n",
    "from sklearn.linear_model import Perceptron\n",
    "import matplotlib.pyplot as plt\n",
    "\n",
    "categories = ['rec.sport.hockey', 'rec.sport.baseball', 'rec.autos']\n",
    "\n",
    "# TODO: Set the name of the selectable test set (subset) and categories (categories)\n",
    "ng_train = fetch_20newsgroups(subset='train', categories=categories, remove=('headers', 'footers', 'quotes'))\n",
    "ng_test = fetch_20newsgroups(subset='test', categories=categories, remove=('headers', 'footers', 'quotes'))\n",
    "\n",
    "Vectorizer = TfidfVectorizer()\n",
    "\n",
    "# TODO: Transform the training data to numerical with the fit_transform() method\n",
    "X_train = Vectorizer.fit_transform(ng_train.data)\n",
    "\n",
    "# TODO: Transform the test data using a different method\n",
    "X_test = Vectorizer.transform(ng_test.data)\n",
    "\n",
    "y_train = ng_train.target\n",
    "y_test = ng_test.target"
   ]
  },
  {
   "cell_type": "markdown",
   "id": "c69ed1ec",
   "metadata": {},
   "source": [
    "1. Use the linear perceptron from `scikit-learn` library to create a classifier.\n",
    "   Save the classifier in the `pc` variable. Use random seed `12501`.\n",
    "\n",
    "2. Predict the probability of your test data being in the class using your classifier and save the confidence scores in the variable `y_score`.\n",
    "   Save the result of the predicted classes in the variable `y_pred`.\n",
    "\n",
    "3. Save the classification report `cr` and the confusion matrix `cm` using the `metrics` module."
   ]
  },
  {
   "cell_type": "code",
   "execution_count": 10,
   "id": "a0213456",
   "metadata": {
    "ExecuteTime": {
     "end_time": "2024-12-12T14:33:36.117100600Z",
     "start_time": "2024-01-18T16:05:47.258916500Z"
    },
    "lines_to_next_cell": 0
   },
   "outputs": [
    {
     "name": "stdout",
     "output_type": "stream",
     "text": [
      "Classification report:\n",
      "              precision    recall  f1-score   support\n",
      "\n",
      "           0       0.85      0.92      0.88       396\n",
      "           1       0.87      0.78      0.82       397\n",
      "           2       0.86      0.87      0.87       399\n",
      "\n",
      "    accuracy                           0.86      1192\n",
      "   macro avg       0.86      0.86      0.86      1192\n",
      "weighted avg       0.86      0.86      0.86      1192\n",
      "\n"
     ]
    }
   ],
   "source": [
    "pc = Perceptron(random_state=12501)\n",
    "pc.fit(X_train, y_train)\n",
    "\n",
    "y_pred = pc.predict(X_test)\n",
    "y_score = pc.decision_function(X_test)\n",
    "\n",
    "cr = metrics.classification_report(y_test, y_pred)  # Käytetään y_testia\n",
    "cm = metrics.confusion_matrix(y_test, y_pred)\n",
    "\n",
    "print(f'Classification report:\\n{cr}')"
   ]
  },
  {
   "cell_type": "code",
   "execution_count": 11,
   "id": "383463c1",
   "metadata": {
    "ExecuteTime": {
     "end_time": "2024-12-12T14:33:36.120092600Z",
     "start_time": "2024-01-18T16:05:47.262905400Z"
    }
   },
   "outputs": [
    {
     "name": "stdout",
     "output_type": "stream",
     "text": [
      "Predict: [1 2 0 ... 0 2 0] and score: [[-0.21437599  0.43421675 -0.35453969]\n",
      " [-0.3811092  -0.11365841 -0.01741706]\n",
      " [ 0.13018903 -0.89340003 -0.43527784]\n",
      " ...\n",
      " [ 0.01711722 -0.07380962 -0.23293169]\n",
      " [-0.77755308 -0.6939603   0.59417642]\n",
      " [ 0.21410956 -0.09395535 -0.1688701 ]]\n",
      "Perceptron average test accuracy: 0.8582214765100671\n",
      "[[365  19  12]\n",
      " [ 42 310  45]\n",
      " [ 24  27 348]]\n",
      "              precision    recall  f1-score   support\n",
      "\n",
      "           0       0.85      0.92      0.88       396\n",
      "           1       0.87      0.78      0.82       397\n",
      "           2       0.86      0.87      0.87       399\n",
      "\n",
      "    accuracy                           0.86      1192\n",
      "   macro avg       0.86      0.86      0.86      1192\n",
      "weighted avg       0.86      0.86      0.86      1192\n",
      "\n"
     ]
    }
   ],
   "source": [
    "# Running the assignment's answers.\n",
    "# Note! Do not edit this cell, just run it after you complete the assignment.\n",
    "\n",
    "print(f\"Predict: {y_pred} and score: {y_score}\")\n",
    "\n",
    "print(f'Perceptron average test accuracy: {pc.score(X_test, ng_test.target)}')\n",
    "\n",
    "print(cm) # compare the actual values with the predictions\n",
    "\n",
    "print(cr)"
   ]
  },
  {
   "cell_type": "markdown",
   "id": "a3828220",
   "metadata": {},
   "source": [
    "### A picture of the confusion matrix."
   ]
  },
  {
   "cell_type": "code",
   "execution_count": 12,
   "id": "a9a732c8",
   "metadata": {
    "ExecuteTime": {
     "end_time": "2024-12-12T14:33:36.122086800Z",
     "start_time": "2024-01-18T16:05:47.265897500Z"
    },
    "lines_to_next_cell": 2
   },
   "outputs": [
    {
     "data": {
      "text/plain": [
       "<Figure size 800x800 with 0 Axes>"
      ]
     },
     "metadata": {},
     "output_type": "display_data"
    },
    {
     "data": {
      "image/png": "[encoded data removed]",
      "text/plain": [
       "<Figure size 640x480 with 2 Axes>"
      ]
     },
     "metadata": {},
     "output_type": "display_data"
    }
   ],
   "source": [
    "plt.figure(figsize=(8, 8))\n",
    "disp = ConfusionMatrixDisplay(confusion_matrix=cm, display_labels=categories)\n",
    "disp.plot()\n",
    "plt.title('Confusion Matrix - Newsgroup Classification')\n",
    "plt.show()"
   ]
  },
  {
   "cell_type": "markdown",
   "id": "22f9fa62",
   "metadata": {},
   "source": [
    "## Another newgroup classifier\n",
    "\n",
    "Do the exactly same task as in _assignment 1-2_ by using another `categories_2` categories list.\n",
    "* The obtained results are analyzed by comparing results with the results of _assignment 1-2_.\n",
    "\n",
    "Reflection: Compare the learning results with the newsgroup data with each other.\n",
    "Verbally reflect on what the possible differences in the results are due to."
   ]
  },
  {
   "cell_type": "code",
   "execution_count": 13,
   "id": "5cdd3ded",
   "metadata": {
    "ExecuteTime": {
     "end_time": "2024-12-12T14:33:36.124081300Z",
     "start_time": "2024-01-18T16:05:47.269885200Z"
    },
    "lines_to_next_cell": 2
   },
   "outputs": [],
   "source": [
    "from sklearn.datasets import fetch_20newsgroups\n",
    "from sklearn.metrics import classification_report, confusion_matrix, ConfusionMatrixDisplay\n",
    "from sklearn.feature_extraction.text import TfidfVectorizer\n",
    "from sklearn.linear_model import Perceptron\n",
    "import matplotlib.pyplot as plt\n",
    "\n",
    "categories_2 = ['comp.graphics', 'comp.os.ms-windows.misc', 'comp.windows.x']\n",
    "\n",
    "ng_train = fetch_20newsgroups(subset='train', categories=categories_2, remove=('headers', 'footers', 'quotes'))\n",
    "ng_test = fetch_20newsgroups(subset='test', categories=categories_2, remove=('headers', 'footers', 'quotes'))\n",
    "\n",
    "Vectorizer = TfidfVectorizer()\n",
    "\n",
    "X_train = Vectorizer.fit_transform(ng_train.data)\n",
    "X_test = Vectorizer.transform(ng_test.data)\n",
    "\n",
    "# TODO: Transform the training data with the fit_transform() method\n",
    "# TODO: Transform the test data\n",
    "\n",
    "clf = Perceptron(random_state=12501)\n",
    "clf.fit(X_train, ng_train.target)\n",
    "\n",
    "y_pred = clf.predict(X_test)\n",
    "y_score = clf.decision_function(X_test)\n",
    "\n",
    "cm = confusion_matrix(ng_test.target, y_pred)\n",
    "cr = classification_report(ng_test.target, y_pred)"
   ]
  },
  {
   "cell_type": "code",
   "execution_count": 14,
   "id": "fcad243d",
   "metadata": {
    "ExecuteTime": {
     "end_time": "2024-12-12T14:33:36.127073900Z",
     "start_time": "2024-01-18T16:05:47.273878100Z"
    }
   },
   "outputs": [
    {
     "name": "stdout",
     "output_type": "stream",
     "text": [
      "Predict: [0 2 1 ... 0 1 1] and score: [[ 0.79084953 -0.54862678 -0.67818069]\n",
      " [-0.24036164 -0.5191811   0.02529202]\n",
      " [-0.27250296  0.18487685 -0.02065824]\n",
      " ...\n",
      " [ 0.38867009 -0.19169666 -0.59294443]\n",
      " [-0.68236023  0.88524358 -0.85308886]\n",
      " [-0.33076315  0.23788087 -0.61880495]]\n",
      "Perceptron average test accuracy: 0.732597623089983\n",
      "[[297  47  45]\n",
      " [ 73 292  29]\n",
      " [ 68  53 274]]\n",
      "              precision    recall  f1-score   support\n",
      "\n",
      "           0       0.68      0.76      0.72       389\n",
      "           1       0.74      0.74      0.74       394\n",
      "           2       0.79      0.69      0.74       395\n",
      "\n",
      "    accuracy                           0.73      1178\n",
      "   macro avg       0.74      0.73      0.73      1178\n",
      "weighted avg       0.74      0.73      0.73      1178\n",
      "\n"
     ]
    }
   ],
   "source": [
    "# Running the assignment's answers.\n",
    "# Note! Do not edit this cell, just run it after you complete the assignment.\n",
    "\n",
    "print(f\"Predict: {y_pred} and score: {y_score}\")\n",
    "print(f'Perceptron average test accuracy: {clf.score(X_test, ng_test.target)}')\n",
    "print(confusion_matrix(ng_test.target, y_pred))\n",
    "print(classification_report(ng_test.target, y_pred))"
   ]
  },
  {
   "cell_type": "markdown",
   "id": "68621c02",
   "metadata": {},
   "source": [
    "### A picture of the confusion matrix with `categories_2` data."
   ]
  },
  {
   "cell_type": "code",
   "execution_count": 15,
   "id": "b7727403",
   "metadata": {
    "ExecuteTime": {
     "end_time": "2024-12-12T14:33:36.130066500Z",
     "start_time": "2024-01-18T16:05:47.277865100Z"
    }
   },
   "outputs": [
    {
     "data": {
      "text/plain": [
       "<Figure size 800x800 with 0 Axes>"
      ]
     },
     "metadata": {},
     "output_type": "display_data"
    },
    {
     "data": {
      "image/png": "[encoded data removed]",
      "text/plain": [
       "<Figure size 640x480 with 2 Axes>"
      ]
     },
     "metadata": {},
     "output_type": "display_data"
    }
   ],
   "source": [
    "plt.figure(figsize=(8, 8))\n",
    "disp = ConfusionMatrixDisplay(confusion_matrix=cm, display_labels=categories_2)\n",
    "disp.plot()\n",
    "plt.title('Confusion Matrix - Computer Topics Classification')\n",
    "plt.show()"
   ]
  },
  {
   "cell_type": "code",
   "execution_count": 16,
   "id": "6f5cd471-566c-4c00-b19d-ec327cbde9c6",
   "metadata": {},
   "outputs": [],
   "source": [
    "Reflection = \"\"\"In comparison to categories used in the first assignment, \n",
    "                in this result there is a smaller accuracy (0.73 vs. 0.86).\n",
    "                This may be because of the categories being more complex and\n",
    "                more difficult to classify. The content of the categories may\n",
    "                affect the results. For instance, technical subjects may be more\n",
    "                complex than subjects in sports, which affects the performance of \n",
    "                the model.\"\"\""
   ]
  }
 ],
 "metadata": {
  "jupytext": {
   "cell_metadata_filter": "-all",
   "main_language": "python",
   "notebook_metadata_filter": "-all"
  },
  "kernelspec": {
   "display_name": "Python 3 (ipykernel)",
   "language": "python",
   "name": "python3"
  },
  "language_info": {
   "codemirror_mode": {
    "name": "ipython",
    "version": 3
   },
   "file_extension": ".py",
   "mimetype": "text/x-python",
   "name": "python",
   "nbconvert_exporter": "python",
   "pygments_lexer": "ipython3",
   "version": "3.13.2"
  }
 },
 "nbformat": 4,
 "nbformat_minor": 5
}
